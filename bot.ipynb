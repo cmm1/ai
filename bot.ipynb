{
 "cells": [
  {
   "cell_type": "code",
   "execution_count": 14,
   "id": "c384ecd9-a9cf-4a74-9916-ecc124816024",
   "metadata": {},
   "outputs": [
    {
     "name": "stdout",
     "output_type": "stream",
     "text": [
      "你好，我是一个聊天机器人，请你提出你的问题吧?\n"
     ]
    },
    {
     "name": "stdin",
     "output_type": "stream",
     "text": [
      "请输入:  我喜欢你\n"
     ]
    },
    {
     "name": "stdout",
     "output_type": "stream",
     "text": [
      "bot:谢谢你的喜欢。\n"
     ]
    },
    {
     "name": "stdin",
     "output_type": "stream",
     "text": [
      "请输入:  bye\n"
     ]
    },
    {
     "name": "stdout",
     "output_type": "stream",
     "text": [
      "Goodbye!\n"
     ]
    }
   ],
   "source": [
    "import openai\n",
    "import os\n",
    "\n",
    "from openai import OpenAI\n",
    "client = OpenAI()\n",
    "\n",
    "def ask_gpt3(prompt):\n",
    "    completion = client.chat.completions.create(\n",
    "      model=\"gpt-3.5-turbo\",\n",
    "      messages=[\n",
    "        {\"role\": \"system\", \"content\": \"所有回答都用简体中文\"},\n",
    "        {\"role\": \"user\", \"content\": prompt}\n",
    "      ]\n",
    "    )\n",
    "    return \"bot:\"+completion.choices[0].message.content\n",
    "\n",
    "print(\"你好，我是一个聊天机器人，请你提出你的问题吧?\")\n",
    "\n",
    "questions = []\n",
    "answers = []\n",
    "\n",
    "\n",
    "while True:\n",
    "    user_input = input(\"请输入: \")\n",
    "    questions.append(user_input)\n",
    "    if user_input.lower() in [\"bye\", \"goodbye\", \"exit\"]:\n",
    "        print(\"Goodbye!\")\n",
    "        break\n",
    "    answer = ask_gpt3(str(questions[0].strip('[]')))\n",
    "    print(answer)\n",
    "    answers.append(answer)"
   ]
  },
  {
   "cell_type": "code",
   "execution_count": null,
   "id": "2b728845-119d-40b1-bf5e-e9d7b3154d19",
   "metadata": {},
   "outputs": [],
   "source": []
  }
 ],
 "metadata": {
  "kernelspec": {
   "display_name": "Python 3 (ipykernel)",
   "language": "python",
   "name": "python3"
  },
  "language_info": {
   "codemirror_mode": {
    "name": "ipython",
    "version": 3
   },
   "file_extension": ".py",
   "mimetype": "text/x-python",
   "name": "python",
   "nbconvert_exporter": "python",
   "pygments_lexer": "ipython3",
   "version": "3.10.13"
  }
 },
 "nbformat": 4,
 "nbformat_minor": 5
}
