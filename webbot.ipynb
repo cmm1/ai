{
 "cells": [
  {
   "cell_type": "code",
   "execution_count": 18,
   "id": "6ec9a882-d230-4307-a4ed-af624557b644",
   "metadata": {},
   "outputs": [
    {
     "name": "stderr",
     "output_type": "stream",
     "text": [
      "C:\\Users\\zyp\\.conda\\envs\\gpt\\lib\\site-packages\\gradio\\deprecation.py:43: UserWarning: You have unused kwarg parameters in Chatbot, please remove them: {'output_size': (0, 0)}\n",
      "  warnings.warn(\n"
     ]
    },
    {
     "name": "stdout",
     "output_type": "stream",
     "text": [
      "Running on local URL:  http://127.0.0.1:7876\n",
      "\n",
      "To create a public link, set `share=True` in `launch()`.\n"
     ]
    },
    {
     "data": {
      "text/html": [
       "<div><iframe src=\"http://127.0.0.1:7876/\" width=\"100%\" height=\"500\" allow=\"autoplay; camera; microphone; clipboard-read; clipboard-write;\" frameborder=\"0\" allowfullscreen></iframe></div>"
      ],
      "text/plain": [
       "<IPython.core.display.HTML object>"
      ]
     },
     "metadata": {},
     "output_type": "display_data"
    },
    {
     "data": {
      "text/plain": []
     },
     "execution_count": 18,
     "metadata": {},
     "output_type": "execute_result"
    }
   ],
   "source": [
    "import gradio as gr\n",
    "import openai\n",
    "\n",
    "# 在 https://beta.openai.com/signup/ 上注册并获取 API 密钥\n",
    "\n",
    "from openai import OpenAI\n",
    "client = OpenAI()\n",
    "\n",
    "# 初始化对话历史为包含系统消息的列表\n",
    "conversation_history = [{\"role\": \"system\", \"content\": \"所有回答都用简体中文\"}]\n",
    "\n",
    "# 用于模拟对话的函数\n",
    "def answer(user_message):\n",
    "    global conversation_history\n",
    "    \n",
    "    # 将用户消息添加到对话历史\n",
    "    conversation_history.append({\"role\": \"user\", \"content\": user_message})\n",
    "    \n",
    "    # 向 GPT-3.5-turbo 发送对话\n",
    "    response =  client.chat.completions.create(\n",
    "        model=\"gpt-3.5-turbo\",\n",
    "        messages=conversation_history\n",
    "    )\n",
    "    \n",
    "    # 获取模型生成的回答\n",
    "    model_reply =response.choices[0].message.content\n",
    "    \n",
    "    # 将模型回答添加到对话历史\n",
    "    conversation_history.append({\"role\": \"assistant\", \"content\": model_reply})\n",
    "    \n",
    "    # 返回模型生成的回答\n",
    "    return [[user_message, model_reply]]\n",
    "\n",
    "# 创建 Gradio 界面\n",
    "with gr.Blocks(css=\"#chatbot{height:500px} .overflow-y-auto{height:500px}\") as demo:\n",
    "    chatbot = gr.Chatbot(elem_id=\"chatbot\", output_size=(0, 0))\n",
    "    \n",
    "    with gr.Row():\n",
    "        txt = gr.Textbox(show_label=False, placeholder=\"Enter text and press enter\").style(container=False)\n",
    "    \n",
    "    # 使用 txt.submit 绑定 answer 函数\n",
    "    txt.submit(answer, [txt], [chatbot])\n",
    "\n",
    "demo.launch()\n"
   ]
  },
  {
   "cell_type": "code",
   "execution_count": null,
   "id": "81fc6ca6-3902-4fa1-9e30-4fd4a4a74994",
   "metadata": {},
   "outputs": [],
   "source": []
  }
 ],
 "metadata": {
  "kernelspec": {
   "display_name": "Python 3 (ipykernel)",
   "language": "python",
   "name": "python3"
  },
  "language_info": {
   "codemirror_mode": {
    "name": "ipython",
    "version": 3
   },
   "file_extension": ".py",
   "mimetype": "text/x-python",
   "name": "python",
   "nbconvert_exporter": "python",
   "pygments_lexer": "ipython3",
   "version": "3.10.13"
  }
 },
 "nbformat": 4,
 "nbformat_minor": 5
}
