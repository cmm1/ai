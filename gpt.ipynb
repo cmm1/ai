{
 "cells": [
  {
   "cell_type": "code",
   "execution_count": 2,
   "id": "9c901490-f68f-4284-b204-b4cb4bfb88fa",
   "metadata": {},
   "outputs": [
    {
     "name": "stdout",
     "output_type": "stream",
     "text": [
      "ChatCompletionMessage(content=\"要使用OpenAI的接口，你首先需要安装OpenAI的Python库。在Python中发送请求可以通过HTTP请求库，如requests库，来实现。\\n\\n以下是使用Python发送请求的一个示例代码：\\n\\n```python\\nimport openai\\nimport requests\\n\\n# 设置OpenAI的API密钥\\nopenai.api_key = 'YOUR_OPENAI_API_KEY'\\n\\n# 使用requests库发送POST请求\\nresponse = requests.post(\\n    'https://api.openai.com/v1/engines/davinci-codex/completions',\\n    headers={\\n        'Authorization': 'Bearer ' + openai.api_key,\\n        'Content-Type': 'application/json'\\n    },\\n    json={\\n        'prompt': '你的问题',\\n        'max_tokens': 100\\n    }\\n)\\n\\n# 获取API的响应结果\\nif response.status_code == 200:\\n    result = response.json()\\n    completion = result['choices'][0]['text']\\n    print(completion)\\nelse:\\n    print('请求错误:', response.status_code, response.text)\\n```\\n\\n请注意，以上示例代码中的'YOUR_OPENAI_API_KEY'需要替换为你自己的OpenAI API密钥。此外，'你的问题'是你想要询问的问题。\\n\\n通过这个例子，你可以使用Python程序发送请求给OpenAI的接口并获取响应结果。你可以根据自己的实际需求来设置其他参数，如max_tokens来设置生成文本的长度。\", role='assistant', function_call=None, tool_calls=None)\n"
     ]
    }
   ],
   "source": [
    "from openai import OpenAI\n",
    "client = OpenAI()\n",
    "\n",
    "completion = client.chat.completions.create(\n",
    "  model=\"gpt-3.5-turbo\",\n",
    "  messages=[\n",
    "    {\"role\": \"system\", \"content\": \"你是一个经验丰富的程序员，将回答我的问题，需要注意的是所有回答都用简体中文\"},\n",
    "    {\"role\": \"user\", \"content\": \"告诉我怎样使用openai的接口，使用python程序发送请求\"}\n",
    "  ]\n",
    ")\n",
    "\n",
    "print(completion.choices[0].message)"
   ]
  },
  {
   "cell_type": "code",
   "execution_count": null,
   "id": "ea082e0d-11ef-4606-9a53-b5886f41317b",
   "metadata": {},
   "outputs": [],
   "source": []
  }
 ],
 "metadata": {
  "kernelspec": {
   "display_name": "Python 3 (ipykernel)",
   "language": "python",
   "name": "python3"
  },
  "language_info": {
   "codemirror_mode": {
    "name": "ipython",
    "version": 3
   },
   "file_extension": ".py",
   "mimetype": "text/x-python",
   "name": "python",
   "nbconvert_exporter": "python",
   "pygments_lexer": "ipython3",
   "version": "3.10.13"
  }
 },
 "nbformat": 4,
 "nbformat_minor": 5
}
